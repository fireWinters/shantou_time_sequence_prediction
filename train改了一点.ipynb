{
 "cells": [
  {
   "cell_type": "code",
   "execution_count": null,
   "metadata": {},
   "outputs": [],
   "source": [
    "import matplotlib.pyplot as plt\n",
    "import torch as t\n",
    "import torch.nn as nn\n",
    "import torch.optim as optim\n",
    "import numpy as np\n",
    "\n",
    "device = t.device(\"cuda\" if t.cuda.is_available() else \"cpu\")  # 设置使用GPU"
   ]
  },
  {
   "cell_type": "code",
   "execution_count": null,
   "metadata": {},
   "outputs": [],
   "source": [
    "# 绘图\n",
    "\n",
    "def draw(yi, color):\n",
    "            plt.plot( np.arange(input.size(1)), yi[:input.size(1)], color, linewidth=2.0) # 画出已知数据的曲线\n",
    "            plt.plot( np.arange(input.size(1), input.size(1) + future), yi[input.size(1):], color + ':', linewidth=2.0) # 画出预测的数据曲线 \n",
    "def plot(y):\n",
    "        plt.figure(figsize=(30, 10)) # 设置画布大小\n",
    "        plt.title('Predict future values for time sequences\\n(Dashlines are predicted values)', fontsize=30)\n",
    "        plt.xlabel('x', fontsize=20) # x轴标签\n",
    "        plt.ylabel('y', fontsize=20)\n",
    "        plt.xticks(fontsize=20) # x轴刻度\n",
    "        plt.yticks(fontsize=20)\n",
    "        draw(y[0], 'r')\n",
    "        draw(y[1], 'g')\n",
    "        draw(y[2], 'b')\n",
    "\n",
    "        plt.show()\n",
    "        plt.close()"
   ]
  },
  {
   "cell_type": "code",
   "execution_count": null,
   "metadata": {},
   "outputs": [],
   "source": [
    "class Sequence(nn.Module):\n",
    "    def __init__(self):\n",
    "        super(Sequence, self).__init__()\n",
    "        self.lstm1 = nn.LSTMCell(1, 51) # 51是隐藏层的维度\n",
    "        self.lstm2 = nn.LSTMCell(51, 51) # 51是隐藏层的维度\n",
    "        self.linear = nn.Linear(51, 1)\n",
    "\n",
    "    def forward(self, input, future=0):\n",
    "        outputs = []\n",
    "        h_t = t.zeros(input.size(0), 51, dtype=t.double)\n",
    "        c_t = t.zeros(input.size(0), 51, dtype=t.double)\n",
    "        h_t2 = t.zeros(input.size(0), 51, dtype=t.double)\n",
    "        c_t2 = t.zeros(input.size(0), 51, dtype=t.double)\n",
    "\n",
    "        for input_t in input.split(1, dim=1):\n",
    "            h_t, c_t = self.lstm1(input_t, (h_t, c_t))\n",
    "            h_t2, c_t2 = self.lstm2(h_t, (h_t2, c_t2))\n",
    "            output = self.linear(h_t2)\n",
    "            outputs += [output]\n",
    "        for i in range(future):\n",
    "            h_t, c_t = self.lstm1(output, (h_t, c_t))\n",
    "            h_t2, c_t2 = self.lstm2(h_t, (h_t2, c_t2))\n",
    "            output = self.linear(h_t2)\n",
    "            outputs += [output]\n",
    "        outputs = t.cat(outputs, dim=1)\n",
    "\n",
    "        return outputs"
   ]
  },
  {
   "cell_type": "code",
   "execution_count": null,
   "metadata": {},
   "outputs": [],
   "source": [
    "epochs = 10\n",
    "# set random seed to 0\n",
    "np.random.seed(0)\n",
    "t.manual_seed(0)\n",
    "# load data and make training set\n",
    "\n",
    "data = t.load('traindata.pt')\n",
    "input = t.from_numpy(data[3:, :-1]).to(device)\n",
    "target = t.from_numpy(data[3:, 1:]).to(device)\n",
    "test_input = t.from_numpy(data[:3, :-1]).to(device)\n",
    "test_target = t.from_numpy(data[:3, 1:]).to(device)\n",
    "# build the model\n",
    "seq = Sequence() .to(device)\n",
    "seq.double()\n",
    "criterion = nn.MSELoss()\n",
    "# use LBFGS as optimizer since we can load the whole data to train\n",
    "optimizer = optim.LBFGS(seq.parameters(), lr=0.8)\n",
    " # begin to train\n",
    "for i in range(epochs):\n",
    "        print('STEP: ', i)\n",
    "\n",
    "        def closure():\n",
    "            optimizer.zero_grad()\n",
    "            out = seq(input)\n",
    "            loss = criterion(out, target)\n",
    "            print('loss:', loss.item())\n",
    "            loss.backward()\n",
    "            return loss\n",
    "        optimizer.step(closure)\n",
    "        # begin to predict, no need to track gradient here\n",
    "        with t.no_grad():\n",
    "            future = 1000\n",
    "            pred = seq(test_input, future=future)\n",
    "            loss = criterion(pred[:, :-future], test_target)\n",
    "            print('test loss:', loss.item())\n",
    "            y = pred.detach().numpy()\n",
    "\n",
    "            plot(y) # 画图"
   ]
  }
 ],
 "metadata": {
  "kernelspec": {
   "display_name": "Python 3",
   "language": "python",
   "name": "python3"
  },
  "language_info": {
   "codemirror_mode": {
    "name": "ipython",
    "version": 3
   },
   "file_extension": ".py",
   "mimetype": "text/x-python",
   "name": "python",
   "nbconvert_exporter": "python",
   "pygments_lexer": "ipython3",
   "version": "3.9.13"
  },
  "orig_nbformat": 4
 },
 "nbformat": 4,
 "nbformat_minor": 2
}
